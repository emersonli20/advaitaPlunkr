{
 "cells": [
  {
   "cell_type": "code",
   "execution_count": 1,
   "metadata": {},
   "outputs": [],
   "source": [
    "from __future__ import print_function\n",
    "from ontobio.ontol_factory import OntologyFactory\n",
    "\n",
    "import obonet\n",
    "\n",
    "import pandas as pd\n",
    "import numpy as np\n",
    "\n",
    "from bs4 import BeautifulSoup, SoupStrainer\n",
    "import inflect\n",
    "import math\n",
    "import json\n",
    "import simplejson"
   ]
  },
  {
   "cell_type": "code",
   "execution_count": 2,
   "metadata": {},
   "outputs": [],
   "source": [
    "p = inflect.engine()"
   ]
  },
  {
   "cell_type": "code",
   "execution_count": 3,
   "metadata": {},
   "outputs": [],
   "source": [
    "ofactory = OntologyFactory()\n",
    "ont = ofactory.create('go.json')"
   ]
  },
  {
   "cell_type": "code",
   "execution_count": 4,
   "metadata": {},
   "outputs": [],
   "source": [
    "def has_class_but_no_id(tag):\n",
    "    return tag.has_attr('title')"
   ]
  },
  {
   "cell_type": "code",
   "execution_count": 5,
   "metadata": {},
   "outputs": [],
   "source": [
    "def get_starting_nodes():\n",
    "    node_titles = []\n",
    "    titles = soup.find_all(\"g\", title=True)\n",
    "    for title in titles:\n",
    "        temp = str(title)\n",
    "        a = temp.find(\"title\")\n",
    "        b = temp.find(\">\")\n",
    "        name = temp[a+7:b-1]\n",
    "        if name[len(name)-3:] == 'ies':\n",
    "            name = name[:-3]\n",
    "            name = name + 'y'\n",
    "        if name[-1] == 's':\n",
    "            if name[-2] != 'u':\n",
    "                name = name[:-1]\n",
    "        if name[-1] == 'i':\n",
    "            name = name[:-1]\n",
    "            name = name + 'us'\n",
    "        if name[-1] == 'a':\n",
    "            name = name[:-1]\n",
    "            name = name + 'on'\n",
    "        if name.lower() not in node_titles:\n",
    "            node_titles.append(name.lower())\n",
    "#     print(starting_node_titles)\n",
    "\n",
    "    graph = obonet.read_obo('go.obo')\n",
    "    name_to_id = {data['name'].lower(): id_ for id_, data in graph.nodes(data=True) if 'name' in data}\n",
    "    node_ids = []\n",
    "    for name in node_titles:\n",
    "        try:\n",
    "            node_ids.append(name_to_id[name])\n",
    "        except:\n",
    "            node_ids.append(None)\n",
    "\n",
    "    node_titles_np = np.array(node_titles)[np.newaxis]\n",
    "    node_ids_np = np.array(node_ids)[np.newaxis]\n",
    "\n",
    "    nodes = np.concatenate((node_titles_np.T, node_ids_np.T),axis=1)\n",
    "\n",
    "    return nodes, node_titles, node_ids"
   ]
  },
  {
   "cell_type": "code",
   "execution_count": 6,
   "metadata": {},
   "outputs": [],
   "source": [
    "def bfs(source):\n",
    "    explored = []\n",
    "    queue = [source]\n",
    "    while queue:\n",
    "        node = queue.pop(0)\n",
    "        # what if the starting node is None? then ont.children(source) returns nothing\n",
    "        if node not in explored:\n",
    "            explored.append(node)\n",
    "            children = ont.children(node)\n",
    "            queue.extend(children)\n",
    "    return explored\n"
   ]
  },
  {
   "cell_type": "code",
   "execution_count": 7,
   "metadata": {},
   "outputs": [],
   "source": [
    "def bfs_with_depth(source):\n",
    "    level = 0\n",
    "    depths = []\n",
    "    explored = []\n",
    "    queue = [source]\n",
    "    while queue:\n",
    "        level_size = len(queue)\n",
    "        while level_size > 0:\n",
    "            node = queue.pop(0)\n",
    "            if node not in explored:\n",
    "                explored.append(node)\n",
    "                depths.append(level)\n",
    "                children = ont.children(node)\n",
    "                queue.extend(children)\n",
    "            level_size -= 1\n",
    "        level += 1\n",
    "    res = np.concatenate(((np.array(explored, dtype='object')[np.newaxis]).T, (np.array(depths)[np.newaxis]).T),\n",
    "                         axis=1)\n",
    "    return res"
   ]
  },
  {
   "cell_type": "code",
   "execution_count": 8,
   "metadata": {},
   "outputs": [],
   "source": [
    "def min_pval(nodes):\n",
    "    pvals = []\n",
    "    for node in nodes:\n",
    "        for i in range(len(data[:,0])):\n",
    "            if node == data[i,0]:\n",
    "                pvals.append(data[i,4])\n",
    "    if not pvals:\n",
    "        return None\n",
    "    else: \n",
    "        return min(pvals)\n"
   ]
  },
  {
   "cell_type": "code",
   "execution_count": 9,
   "metadata": {},
   "outputs": [],
   "source": [
    "def get_pvals():\n",
    "    pvals = []\n",
    "    for node in starting_node_ids:\n",
    "        pvals.append(min_pval(bfs(node)))\n",
    "    return pvals\n"
   ]
  },
  {
   "cell_type": "code",
   "execution_count": 10,
   "metadata": {},
   "outputs": [],
   "source": [
    "def get_pvals_and_children_with_depth():\n",
    "    pvals = np.empty([len(starting_node_ids), 4], dtype='object')\n",
    "    for i in range(len(starting_node_ids)):\n",
    "        node = starting_node_ids[i]\n",
    "        res = bfs_with_depth(node)\n",
    "        \n",
    "        pvals[i,0] = min_pval(res[:,0])\n",
    "        for j in range(len(data[:,0])):\n",
    "            if node == data[j,0]:\n",
    "                pvals[i,1] = data[j,4]\n",
    "                break\n",
    "                \n",
    "        d = get_graph(node)\n",
    "        d = goid_to_label_and_pval(d)\n",
    "        d_str = \"\\n\".join((\"{}: {}\".format(*j) for j in d.items()))\n",
    "        pvals[i,3] = d_str\n",
    "        \n",
    "        non_represented_res = [x for x in res[:,0] if x not in starting_node_ids]\n",
    "        pvals[i,2] = min_pval(non_represented_res)\n",
    "        \n",
    "    return pvals"
   ]
  },
  {
   "cell_type": "code",
   "execution_count": 11,
   "metadata": {},
   "outputs": [],
   "source": [
    "def get_graph(node):\n",
    "    res = bfs_with_depth(node)\n",
    "    graph = {}\n",
    "    for i in range(np.amax(res[:,1]) + 1):\n",
    "        graph['level ' + str(i)] = [x for ind, x in np.ndenumerate(res[:,0]) \n",
    "                                    if res[ind[0],1] == i] \n",
    "    return graph"
   ]
  },
  {
   "cell_type": "code",
   "execution_count": 12,
   "metadata": {},
   "outputs": [],
   "source": [
    "def goid_to_label_and_pval(d):\n",
    "    for k, v in d.items():\n",
    "        new_v = []\n",
    "        for x in v:\n",
    "            lbl = ont.label(x)\n",
    "            pval = '--'\n",
    "            for i in range(data.shape[0]):\n",
    "                if x == data[i,0]:\n",
    "                    pval = round(data[i,4],6)\n",
    "            if lbl:\n",
    "                x = lbl + \", pval = \" + str(pval)\n",
    "            else:\n",
    "                x = None\n",
    "            new_v.append(x)\n",
    "        d.update([(k, new_v)])\n",
    "    return d\n",
    "            "
   ]
  },
  {
   "cell_type": "code",
   "execution_count": 13,
   "metadata": {},
   "outputs": [],
   "source": [
    "def log_arr(arr, base=10, includeNone=False):\n",
    "    res = [-math.log(x, base) if x is not None else None for x in arr]\n",
    "    if includeNone:\n",
    "        return res #keeps None values\n",
    "    else: \n",
    "        return [x for x in res if x is not None] # removes None values"
   ]
  },
  {
   "cell_type": "code",
   "execution_count": 14,
   "metadata": {},
   "outputs": [],
   "source": [
    "def set_comp_color(comp, row, base, mx):\n",
    "    # strainer = SoupStrainer('g', title=comp)\n",
    "    #strainer = SoupStrainer('g', attrs={'title': lambda x: x and x.lower()==comp})\n",
    "    strainer = SoupStrainer('g', attrs={'title': lambda x: x and (modded_singularize(x).lower()==comp\n",
    "                                       if modded_singularize(x) else x.lower()==comp)})\n",
    "    comp_soup = BeautifulSoup(cellLocation, 'html.parser', parse_only=strainer)\n",
    "    paths = comp_soup.find_all('path', style=True)\n",
    "    new_paths = ''\n",
    "    for path in paths:\n",
    "        pval_input = plunker_inputs[row,2]\n",
    "        rgb = log_pval_to_rgb(pval_input, mx, base) # experiment with different bases and scales\n",
    "        temp = str(path)\n",
    "        a = temp.find('style')\n",
    "        temp = ''.join((temp[:a+13], rgb, temp[a+19:]))\n",
    "        new_paths += temp\n",
    "    return new_paths\n"
   ]
  },
  {
   "cell_type": "code",
   "execution_count": 15,
   "metadata": {},
   "outputs": [],
   "source": [
    "def new_html(base=10):\n",
    "    mx = mx_log\n",
    "    print()\n",
    "    print('max -log(pval): ' + str(mx))\n",
    "    print('scale = ' + str(255/mx))\n",
    "    new_file = ''\n",
    "    for i in range(plunker_inputs.shape[0]):\n",
    "        new_file += set_comp_color(plunker_inputs[i,0], i, base, mx)\n",
    "\n",
    "    paths_only_soup = BeautifulSoup(new_file, 'html.parser')\n",
    "    # paths_only_soup_str = str(paths_only_soup)\n",
    "    old_paths = soup.find_all('path', style=True)\n",
    "    new_paths = paths_only_soup.find_all('path', style=True) # new_paths has the new rgb values\n",
    "\n",
    "    for i in range(len(new_paths)):\n",
    "        old_paths[i].replace_with(new_paths[i])\n",
    "\n",
    "    target = soup.find_all(text=\"Max\")\n",
    "    for v in target:\n",
    "        v.replace_with(str(round(mx,2)))\n",
    "\n",
    "    titles = soup.find_all(\"g\", title=True)\n",
    "    idx = 0\n",
    "    while idx < len(titles):\n",
    "        for i in [x + 2 for x in range(3)]:\n",
    "            if pd.isnull(final[int(idx/2), i]):\n",
    "                final[int(idx / 2), i] = \"--\"\n",
    "        titles[idx]['min-pval'] = round(final[int(idx/2), 2], 6) if isinstance(final[int(idx/2), 2], float) else final[int(idx/2), 2]\n",
    "        titles[idx]['init-pval'] = round(final[int(idx/2), 5], 6) if isinstance(final[int(idx/2), 5], float) else final[int(idx/2), 5]\n",
    "        titles[idx]['min-pval-children'] = round(final[int(idx/2), 6], 6) if isinstance(final[int(idx/2), 6], float) else final[int(idx/2), 6]\n",
    "        titles[idx]['descendants'] = final[int(idx/2), -1]\n",
    "        idx = idx + 1\n",
    "\n",
    "    return str(soup)"
   ]
  },
  {
   "cell_type": "code",
   "execution_count": 16,
   "metadata": {},
   "outputs": [],
   "source": [
    "def pval_to_rgb(pval):\n",
    "    r_str = 'ff'\n",
    "    if np.isnan(pval):\n",
    "        return r_str*3\n",
    "    g = int(round(pval*255))\n",
    "    b = int(round(pval*255))\n",
    "    g_str = format(g,'x')\n",
    "    if len(g_str) < 2:\n",
    "        g_str = '0' + g_str\n",
    "    b_str = format(b,'x')\n",
    "    if len(b_str) < 2:\n",
    "        b_str = '0' + b_str\n",
    "    rgb = r_str + g_str + b_str\n",
    "    return rgb\n"
   ]
  },
  {
   "cell_type": "code",
   "execution_count": 17,
   "metadata": {},
   "outputs": [],
   "source": [
    "def log_pval_to_rgb(pval, mx, base):\n",
    "    # make it cyan to magenta\n",
    "    # cyan: 00FFFF\n",
    "    # magenta: FF00FF\n",
    "    r_str = 'ff'\n",
    "    if np.isnan(pval):\n",
    "        return 'ffffff'\n",
    "    x = -math.log(pval, base)\n",
    "    \n",
    "    scale = 255 / mx\n",
    "    y = int(round(x*scale))\n",
    "    gb = 255 - y\n",
    "    if gb < 0:\n",
    "        gb = 0\n",
    "        \n",
    "    gb_str = format(gb,'x')\n",
    "    if len(gb_str) < 2:\n",
    "        gb_str = '0' + gb_str\n",
    "    \n",
    "    rgb = r_str + gb_str + gb_str\n",
    "    return rgb"
   ]
  },
  {
   "cell_type": "code",
   "execution_count": 18,
   "metadata": {},
   "outputs": [],
   "source": [
    "def log_pval_to_rgb(pval, mx, base):\n",
    "    # make it cyan to magenta\n",
    "    # cyan: 00FFFF\n",
    "    # magenta: FF00FF\n",
    "    # as y increases, r increases, g decreases\n",
    "    b_str = 'ff'\n",
    "    if np.isnan(pval):\n",
    "        return 'ffffff'\n",
    "    x = -math.log(pval, base)\n",
    "    \n",
    "    scale = 255 / mx\n",
    "    y = int(round(x*scale))\n",
    "    r = y\n",
    "    g = 255 - y\n",
    "        \n",
    "    r_str = format(r,'x')\n",
    "    if len(r_str) < 2:\n",
    "        r_str = '0' + r_str\n",
    "        \n",
    "    g_str = format(g,'x')\n",
    "    if len(g_str) < 2:\n",
    "        g_str = '0' + g_str\n",
    "    \n",
    "    rgb = r_str + g_str + b_str\n",
    "    return rgb"
   ]
  },
  {
   "cell_type": "code",
   "execution_count": 19,
   "metadata": {},
   "outputs": [],
   "source": [
    "def modded_singularize(word):\n",
    "    word = word\n",
    "#     if ' and ' in word:\n",
    "#         x = word.split(' and ')   \n",
    "    if word[-2:] == 'ia':\n",
    "        word = word[:-2] + 'ion'\n",
    "        return word\n",
    "    return p.singular_noun(word)\n",
    "    "
   ]
  },
  {
   "cell_type": "code",
   "execution_count": 20,
   "metadata": {},
   "outputs": [],
   "source": [
    "def write_json(short=True):\n",
    "    if short:\n",
    "        json_form = \"\"\n",
    "        json_attrs = ['Title', 'ID', 'min_pval', 'log_min_pval', 'interpolate']\n",
    "    else:\n",
    "        json_form = \"_long\"\n",
    "        json_attrs = ['Title', 'ID', 'min_pval', 'log_min_pval', 'interpolate', 'init_pval',\n",
    "                  'min_pval_children', 'descendants']\n",
    "\n",
    "    ld = [{x: plunker_inputs[i,j] for (j, x) in enumerate(json_attrs)}\n",
    "          for i in range(plunker_inputs.shape[0])]\n",
    "\n",
    "    json_filename = 'plunker_inputs_' + input_csv.split('.')[0] + json_form + '.json'\n",
    "    with open(\"Project/\" + json_filename, 'w') as file:\n",
    "        simplejson.dump(ld, file, ignore_nan=True)"
   ]
  },
  {
   "cell_type": "code",
   "execution_count": 49,
   "metadata": {},
   "outputs": [],
   "source": [
    "input_csv = 'melanoma_sig.csv'\n",
    "short = False\n",
    "data = pd.read_csv(input_csv)\n",
    "data = data.to_numpy()"
   ]
  },
  {
   "cell_type": "code",
   "execution_count": 50,
   "metadata": {},
   "outputs": [],
   "source": [
    "html_file = open('templates/cellLocation.html', 'r')\n",
    "cellLocation = html_file.read()\n",
    "html_file.close()\n",
    "soup  = BeautifulSoup(cellLocation,'html.parser')"
   ]
  },
  {
   "cell_type": "code",
   "execution_count": 51,
   "metadata": {
    "scrolled": false
   },
   "outputs": [],
   "source": [
    "starting_nodes, starting_node_titles, starting_node_ids = get_starting_nodes()"
   ]
  },
  {
   "cell_type": "code",
   "execution_count": 52,
   "metadata": {},
   "outputs": [],
   "source": [
    "final_pvals = get_pvals_and_children_with_depth()\n",
    "\n",
    "log_min_pvals = log_arr(final_pvals[:,0].tolist(),includeNone=True)\n",
    "mx_log = max(log_arr(final_pvals[:,0].tolist()))\n",
    "\n",
    "# interpolate_vals = np.array(log_min_pvals)[:, np.newaxis] / mx_log\n",
    "interpolate_vals = np.array([round(x / mx_log, 6) if x is not None else None for x in log_min_pvals])[:, np.newaxis]\n",
    "final_pvals = np.concatenate([final_pvals[:,:-3],\n",
    "                              np.array(log_min_pvals)[:, np.newaxis],\n",
    "                              interpolate_vals,\n",
    "                              final_pvals[:,-3:-1],\n",
    "                              (final_pvals[:,-1])[:,np.newaxis]], axis=1)"
   ]
  },
  {
   "cell_type": "code",
   "execution_count": 53,
   "metadata": {
    "scrolled": true
   },
   "outputs": [
    {
     "name": "stdout",
     "output_type": "stream",
     "text": [
      "                            Title          ID  min_pval  log_min_pval  \\\n",
      "0                         cytosol  GO:0005829  0.000054      4.267606   \n",
      "1           intermediate_filament  GO:0005882       NaN           NaN   \n",
      "2                  actin_filament  GO:0005884  0.037010      1.431681   \n",
      "3             focal_adhesion_site         NaN       NaN           NaN   \n",
      "4   microtubule_organizing_center  GO:0005815       NaN           NaN   \n",
      "5                      centrosome  GO:0005813       NaN           NaN   \n",
      "6                     microtubule  GO:0005874       NaN           NaN   \n",
      "7                 microtubule_end  GO:1990752       NaN           NaN   \n",
      "8                secreted_protein         NaN       NaN           NaN   \n",
      "9                   lipid_droplet  GO:0005811       NaN           NaN   \n",
      "10                       lysosome  GO:0005764       NaN           NaN   \n",
      "11                     peroxisome  GO:0005777       NaN           NaN   \n",
      "12                       endosome  GO:0005768  0.009150      2.038579   \n",
      "13          endoplasmic_reticulum  GO:0005783  0.001800      2.744727   \n",
      "14                golgi_apparatus  GO:0005794  0.023680      1.625618   \n",
      "15                    nucleoplasm  GO:0005654  0.009420      2.025949   \n",
      "16               nuclear_membrane  GO:0031965       NaN           NaN   \n",
      "17                   nuclear_body  GO:0016604       NaN           NaN   \n",
      "18                nuclear_speckle         NaN       NaN           NaN   \n",
      "19                      nucleolus  GO:0005730  0.004530      2.343902   \n",
      "20      nucleoli_fibrillar_center         NaN       NaN           NaN   \n",
      "21                  rods_and_ring         NaN       NaN           NaN   \n",
      "22                  mitochondrion  GO:0005739       NaN           NaN   \n",
      "23                plasma_membrane  GO:0005886  0.000580      3.236572   \n",
      "\n",
      "    interpolate  init_pval  min_pval_children  \\\n",
      "0      1.000000   0.000054                NaN   \n",
      "1           NaN        NaN                NaN   \n",
      "2      0.335476        NaN            0.03701   \n",
      "3           NaN        NaN                NaN   \n",
      "4           NaN        NaN                NaN   \n",
      "5           NaN        NaN                NaN   \n",
      "6           NaN        NaN                NaN   \n",
      "7           NaN        NaN                NaN   \n",
      "8           NaN        NaN                NaN   \n",
      "9           NaN        NaN                NaN   \n",
      "10          NaN        NaN                NaN   \n",
      "11          NaN        NaN                NaN   \n",
      "12     0.477687   0.009150                NaN   \n",
      "13     0.643154        NaN            0.00180   \n",
      "14     0.380920   0.023680                NaN   \n",
      "15     0.474727   0.009420                NaN   \n",
      "16          NaN        NaN                NaN   \n",
      "17          NaN        NaN                NaN   \n",
      "18          NaN        NaN                NaN   \n",
      "19     0.549231   0.004530                NaN   \n",
      "20          NaN        NaN                NaN   \n",
      "21          NaN        NaN                NaN   \n",
      "22          NaN        NaN                NaN   \n",
      "23     0.758405        NaN            0.00058   \n",
      "\n",
      "                                          descendants  \n",
      "0   level 0: ['cytosol, pval = 5.4e-05']\\nlevel 1:...  \n",
      "1   level 0: ['intermediate filament, pval = --']\\...  \n",
      "2   level 0: ['actin filament, pval = --']\\nlevel ...  \n",
      "3                                     level 0: [None]  \n",
      "4   level 0: ['microtubule organizing center, pval...  \n",
      "5   level 0: ['centrosome, pval = --']\\nlevel 1: [...  \n",
      "6   level 0: ['microtubule, pval = --']\\nlevel 1: ...  \n",
      "7   level 0: ['microtubule end, pval = --']\\nlevel...  \n",
      "8                                     level 0: [None]  \n",
      "9   level 0: ['lipid droplet, pval = --']\\nlevel 1...  \n",
      "10  level 0: ['lysosome, pval = --']\\nlevel 1: ['s...  \n",
      "11  level 0: ['peroxisome, pval = --']\\nlevel 1: [...  \n",
      "12  level 0: ['endosome, pval = 0.00915']\\nlevel 1...  \n",
      "13  level 0: ['endoplasmic reticulum, pval = --']\\...  \n",
      "14  level 0: ['Golgi apparatus, pval = 0.02368']\\n...  \n",
      "15  level 0: ['nucleoplasm, pval = 0.00942']\\nleve...  \n",
      "16  level 0: ['nuclear membrane, pval = --']\\nleve...  \n",
      "17  level 0: ['nuclear body, pval = --']\\nlevel 1:...  \n",
      "18                                    level 0: [None]  \n",
      "19  level 0: ['nucleolus, pval = 0.00453']\\nlevel ...  \n",
      "20                                    level 0: [None]  \n",
      "21                                    level 0: [None]  \n",
      "22  level 0: ['mitochondrion, pval = --']\\nlevel 1...  \n",
      "23  level 0: ['plasma membrane, pval = --']\\nlevel...  \n"
     ]
    }
   ],
   "source": [
    "# final_pvals_np = np.array(final_pvals)[np.newaxis]\n",
    "# final = np.concatenate((starting_nodes, final_pvals_np.T), axis=1)\n",
    "final = np.concatenate((starting_nodes, final_pvals), axis=1)\n",
    "\n",
    "for i, n in np.ndenumerate(final[:,0]):\n",
    "    final[i[0],0] = n.replace(' ', '_')\n",
    "final_dataset = pd.DataFrame({'Title': final[:,0], 'ID': final[:,1], 'min_pval': final[:,2],\n",
    "                              'log_min_pval': final[:,3], 'interpolate': final[:,4],\n",
    "                              'init_pval': final[:,5], 'min_pval_children': final[:,6],\n",
    "                              'descendants': final[:,-1]})\n",
    "\n",
    "final_table_name = 'to_plunker_' + input_csv\n",
    "final_dataset.to_csv(final_table_name, index=False)\n",
    "print(pd.read_csv(final_table_name))\n",
    "\n",
    "df = pd.read_csv(final_table_name)\n",
    "plunker_inputs = df.to_numpy()\n"
   ]
  },
  {
   "cell_type": "code",
   "execution_count": 54,
   "metadata": {},
   "outputs": [],
   "source": [
    "write_json(short)"
   ]
  },
  {
   "cell_type": "code",
   "execution_count": 55,
   "metadata": {},
   "outputs": [
    {
     "name": "stdout",
     "output_type": "stream",
     "text": [
      "\n",
      "max -log(pval): 4.267606240177031\n",
      "scale = 59.75246675743495\n"
     ]
    }
   ],
   "source": [
    "new_cellLocation = new_html()\n",
    "new_html_name = 'new_cellLocation_' + input_csv.split('.')[0] + '.html'\n",
    "\n",
    "file = open(new_html_name, 'w')\n",
    "file.write(new_cellLocation)\n",
    "file.close()"
   ]
  }
 ],
 "metadata": {
  "kernelspec": {
   "display_name": "Python 3",
   "language": "python",
   "name": "python3"
  },
  "language_info": {
   "codemirror_mode": {
    "name": "ipython",
    "version": 3
   },
   "file_extension": ".py",
   "mimetype": "text/x-python",
   "name": "python",
   "nbconvert_exporter": "python",
   "pygments_lexer": "ipython3",
   "version": "3.7.6"
  }
 },
 "nbformat": 4,
 "nbformat_minor": 4
}
